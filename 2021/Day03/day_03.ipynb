{
 "cells": [
  {
   "cell_type": "code",
   "execution_count": 38,
   "metadata": {},
   "outputs": [],
   "source": [
    "import numpy as np"
   ]
  },
  {
   "cell_type": "markdown",
   "metadata": {},
   "source": [
    "## Part 1\n"
   ]
  },
  {
   "cell_type": "code",
   "execution_count": 39,
   "metadata": {},
   "outputs": [],
   "source": [
    "with open(\"./input.txt\") as file:\n",
    "    lines = file.readlines()\n",
    "\n",
    "data = []"
   ]
  },
  {
   "cell_type": "code",
   "execution_count": 40,
   "metadata": {},
   "outputs": [],
   "source": [
    "for line in lines:\n",
    "    data.append([int(c) for c in line if c != \"\\n\"])\n",
    "        "
   ]
  },
  {
   "cell_type": "code",
   "execution_count": 63,
   "metadata": {},
   "outputs": [
    {
     "data": {
      "text/plain": [
       "(1000, 12)"
      ]
     },
     "execution_count": 63,
     "metadata": {},
     "output_type": "execute_result"
    }
   ],
   "source": [
    "mat = np.array(data)\n",
    "mat.shape"
   ]
  },
  {
   "cell_type": "code",
   "execution_count": 64,
   "metadata": {},
   "outputs": [],
   "source": [
    "gamma = 0"
   ]
  },
  {
   "cell_type": "code",
   "execution_count": 65,
   "metadata": {},
   "outputs": [
    {
     "name": "stdout",
     "output_type": "stream",
     "text": [
      "499\n",
      "489\n",
      "498\n",
      "490\n",
      "502\n",
      "484\n",
      "515\n",
      "508\n",
      "502\n",
      "518\n",
      "517\n",
      "487\n"
     ]
    }
   ],
   "source": [
    "for i in range(12):\n",
    "    print (mat[:, i].sum())\n",
    "    gamma += 2**(11-i) * int((mat[:, i].sum() > 500))"
   ]
  },
  {
   "cell_type": "code",
   "execution_count": 66,
   "metadata": {},
   "outputs": [
    {
     "data": {
      "text/plain": [
       "741950"
      ]
     },
     "execution_count": 66,
     "metadata": {},
     "output_type": "execute_result"
    }
   ],
   "source": [
    "gamma * (2**12 - 1 - gamma)"
   ]
  },
  {
   "cell_type": "markdown",
   "metadata": {},
   "source": [
    "## Part 2"
   ]
  },
  {
   "cell_type": "code",
   "execution_count": 108,
   "metadata": {},
   "outputs": [
    {
     "data": {
      "text/plain": [
       "(1000, 12)"
      ]
     },
     "execution_count": 108,
     "metadata": {},
     "output_type": "execute_result"
    }
   ],
   "source": [
    "mat2 = mat\n",
    "mat2.shape"
   ]
  },
  {
   "cell_type": "code",
   "execution_count": 109,
   "metadata": {},
   "outputs": [
    {
     "name": "stdout",
     "output_type": "stream",
     "text": [
      "499 1000\n",
      "243 501\n",
      "121 258\n",
      "81 137\n",
      "37 81\n",
      "21 44\n",
      "11 23\n",
      "6 12\n",
      "3 6\n",
      "1 3\n",
      "1 2\n"
     ]
    }
   ],
   "source": [
    "for i in range(12):\n",
    "    if mat2.shape[0] == 1:\n",
    "        break;\n",
    "    print(mat2[:, i].sum(), mat2.shape[0])\n",
    "    if mat2[:, i].sum() >= mat2.shape[0] / 2:\n",
    "        mat2 = mat2[mat2[:, i] == 1, :]\n",
    "    else:\n",
    "        mat2 = mat2[mat2[:, i] == 0, :]\n",
    "   "
   ]
  },
  {
   "cell_type": "code",
   "execution_count": 110,
   "metadata": {},
   "outputs": [
    {
     "data": {
      "text/plain": [
       "array([[0, 0, 0, 1, 0, 0, 0, 1, 1, 0, 1, 0]])"
      ]
     },
     "execution_count": 110,
     "metadata": {},
     "output_type": "execute_result"
    }
   ],
   "source": [
    "mat2"
   ]
  },
  {
   "cell_type": "code",
   "execution_count": 111,
   "metadata": {},
   "outputs": [],
   "source": [
    "mat3 = mat"
   ]
  },
  {
   "cell_type": "code",
   "execution_count": 112,
   "metadata": {},
   "outputs": [
    {
     "name": "stdout",
     "output_type": "stream",
     "text": [
      "499 1000\n",
      "246 499\n",
      "123 246\n",
      "65 123\n",
      "28 58\n",
      "14 28\n",
      "9 14\n",
      "3 5\n",
      "1 2\n"
     ]
    }
   ],
   "source": [
    "for i in range(12):\n",
    "    if mat3.shape[0] == 1:\n",
    "        break\n",
    "    print(mat3[:, i].sum(), mat3.shape[0])\n",
    "    if mat3[:, i].sum() >= mat3.shape[0] / 2:\n",
    "        mat3 = mat3[mat3[:, i] == 0, :]\n",
    "    else:\n",
    "        mat3 = mat3[mat3[:, i] == 1, :]\n",
    "   "
   ]
  },
  {
   "cell_type": "code",
   "execution_count": 114,
   "metadata": {},
   "outputs": [
    {
     "data": {
      "text/plain": [
       "array([1, 1, 0, 0, 1, 0, 0, 0, 0, 1, 0, 1])"
      ]
     },
     "execution_count": 114,
     "metadata": {},
     "output_type": "execute_result"
    }
   ],
   "source": [
    "mat3[0]"
   ]
  },
  {
   "cell_type": "code",
   "execution_count": 119,
   "metadata": {},
   "outputs": [],
   "source": [
    "def convert_bin_dec(bin_array):\n",
    "    sum = 0\n",
    "    for i in range(len(bin_array)):\n",
    "        sum += 2**i * bin_array[len(bin_array) - 1 - i]\n",
    "    \n",
    "    return sum"
   ]
  },
  {
   "cell_type": "code",
   "execution_count": 121,
   "metadata": {},
   "outputs": [
    {
     "data": {
      "text/plain": [
       "903810"
      ]
     },
     "execution_count": 121,
     "metadata": {},
     "output_type": "execute_result"
    }
   ],
   "source": [
    "convert_bin_dec(mat2[0]) * convert_bin_dec(mat3[0])"
   ]
  },
  {
   "cell_type": "code",
   "execution_count": null,
   "metadata": {},
   "outputs": [],
   "source": []
  }
 ],
 "metadata": {
  "kernelspec": {
   "display_name": "Python 3",
   "language": "python",
   "name": "python3"
  },
  "language_info": {
   "codemirror_mode": {
    "name": "ipython",
    "version": 3
   },
   "file_extension": ".py",
   "mimetype": "text/x-python",
   "name": "python",
   "nbconvert_exporter": "python",
   "pygments_lexer": "ipython3",
   "version": "3.8.5"
  }
 },
 "nbformat": 4,
 "nbformat_minor": 4
}
